{
 "cells": [
  {
   "cell_type": "code",
   "execution_count": 2,
   "metadata": {},
   "outputs": [
    {
     "name": "stdout",
     "output_type": "stream",
     "text": [
      "hello\n",
      "world\n"
     ]
    }
   ],
   "source": [
    "console.log('hello');\n",
    "console.log('world');"
   ]
  },
  {
   "cell_type": "code",
   "execution_count": 3,
   "metadata": {},
   "outputs": [
    {
     "name": "stdout",
     "output_type": "stream",
     "text": [
      "hello workd\n"
     ]
    }
   ],
   "source": [
    "console.log('hello workd');"
   ]
  },
  {
   "cell_type": "code",
   "execution_count": 4,
   "metadata": {},
   "outputs": [],
   "source": [
    "//this is a comment. it doesn get executed"
   ]
  },
  {
   "cell_type": "code",
   "execution_count": 6,
   "metadata": {},
   "outputs": [
    {
     "name": "stdout",
     "output_type": "stream",
     "text": [
      "Paul\n",
      "Pierre\n"
     ]
    }
   ],
   "source": [
    "var name = \"Paul\"; // name is a variable\n",
    "\n",
    "console.log(name);\n",
    "\n",
    "name='Pierre';\n",
    "console.log(name);"
   ]
  },
  {
   "cell_type": "code",
   "execution_count": null,
   "metadata": {},
   "outputs": [],
   "source": [
    "//Basic Data types\n",
    "//String - Text\n",
    "//Number - Numbers (integers, floats)   \n",
    "//Boolean - True or False\n"
   ]
  },
  {
   "cell_type": "code",
   "execution_count": 9,
   "metadata": {},
   "outputs": [
    {
     "name": "stdout",
     "output_type": "stream",
     "text": [
      "30\n",
      "100.5\n",
      "100134324.344242\n"
     ]
    }
   ],
   "source": [
    "//numbers\n",
    "var age = 30; //stores an integer\n",
    "console.log(age);\n",
    "\n",
    "var total= 100.50; //stores a float\n",
    "console.log(total);\n",
    "\n",
    "var data=100134324.344242\n",
    "console.log(data);\n"
   ]
  },
  {
   "cell_type": "code",
   "execution_count": 12,
   "metadata": {},
   "outputs": [
    {
     "name": "stdout",
     "output_type": "stream",
     "text": [
      "20\n"
     ]
    }
   ],
   "source": [
    "//alternative way of declaring variable\n",
    "let num=20;\n",
    "console.log(num);"
   ]
  },
  {
   "cell_type": "code",
   "execution_count": 13,
   "metadata": {},
   "outputs": [
    {
     "name": "stdout",
     "output_type": "stream",
     "text": [
      "Paul\n",
      "Eric\n"
     ]
    }
   ],
   "source": [
    "//strings\n",
    "var name = \"Paul\";\n",
    "console.log(name);\n",
    "\n",
    "name='Eric';\n",
    "console.log(name);"
   ]
  },
  {
   "cell_type": "code",
   "execution_count": 14,
   "metadata": {},
   "outputs": [
    {
     "name": "stdout",
     "output_type": "stream",
     "text": [
      "50\n"
     ]
    }
   ],
   "source": [
    "let average=\"50\";\n",
    "console.log(average);"
   ]
  },
  {
   "cell_type": "code",
   "execution_count": 16,
   "metadata": {},
   "outputs": [
    {
     "name": "stdout",
     "output_type": "stream",
     "text": [
      "string\n",
      "number\n"
     ]
    }
   ],
   "source": [
    "console.log(typeof(average));\n",
    "\n",
    "num=30;\n",
    "console.log(typeof(num));"
   ]
  },
  {
   "cell_type": "code",
   "execution_count": 18,
   "metadata": {},
   "outputs": [
    {
     "name": "stdout",
     "output_type": "stream",
     "text": [
      "true\n",
      "false\n"
     ]
    }
   ],
   "source": [
    "//boolean\n",
    "var married=true;\n",
    "\n",
    "console.log(married);\n",
    "\n",
    "married=false;\n",
    "console.log(married);"
   ]
  },
  {
   "cell_type": "code",
   "execution_count": null,
   "metadata": {},
   "outputs": [],
   "source": [
    "//variable naming convention\n",
    "var age=30;\n",
    "\n",
    "//var 2age=45; //invalid variable name - cannot start with a number\n",
    "var age2=45; //valid variable name\n",
    "var a2ge=45; //valid variable name\n",
    "\n",
    "var Age=45; //valid variable name but not recommended\n",
    "\n",
    "// var age£=45; //invalid variable name - cannot contain special character\n",
    "// var full name=\"Paul\"; //invalid variable name - cannot contain space\n",
    "var full_name=\"Paul\"; //valid variable name\n",
    "var fullName=\"Paul\"; //valid variable name\n"
   ]
  },
  {
   "cell_type": "code",
   "execution_count": 3,
   "metadata": {},
   "outputs": [
    {
     "name": "stdout",
     "output_type": "stream",
     "text": [
      "10\n"
     ]
    }
   ],
   "source": [
    "//operations\n",
    "var num1=10;\n",
    "var num2=20;\n",
    "\n",
    "var result=num1+num2; //addition\n",
    "\n",
    "result=num1 - num2; //subtraction\n",
    "result=num1 * num2; //multiplication\n",
    "result=num1 / num2; //division\n",
    "result=num1 % num2; //modulus\n",
    "\n",
    "console.log(result);    \n"
   ]
  },
  {
   "cell_type": "code",
   "execution_count": 6,
   "metadata": {},
   "outputs": [],
   "source": [
    "//conditions\n",
    "\n",
    "var age=10;\n",
    "\n",
    "if (age > 18){\n",
    "    console.log('You are an adult');\n",
    "};\n",
    "\n"
   ]
  },
  {
   "cell_type": "code",
   "execution_count": 8,
   "metadata": {},
   "outputs": [
    {
     "name": "stdout",
     "output_type": "stream",
     "text": [
      "You are a child\n"
     ]
    }
   ],
   "source": [
    "var age=10;\n",
    "\n",
    "if (age > 18){\n",
    "    console.log('You are an adult');\n",
    "}else{\n",
    "    console.log('You are a child');\n",
    "};\n"
   ]
  },
  {
   "cell_type": "code",
   "execution_count": 13,
   "metadata": {},
   "outputs": [
    {
     "name": "stdout",
     "output_type": "stream",
     "text": [
      "You get 2% discount\n"
     ]
    }
   ],
   "source": [
    "var total=5000;\n",
    "\n",
    "if (total>10000){\n",
    "    console.log('You get 10% discount');\n",
    "}else if (total>=5000){\n",
    "    console.log('You get 5% discount');\n",
    "}else if (total>2500){\n",
    "    console.log('You get 2% discount');\n",
    "}else{\n",
    "    console.log('You get no discount');\n",
    "}\n"
   ]
  },
  {
   "cell_type": "code",
   "execution_count": null,
   "metadata": {},
   "outputs": [],
   "source": [
    "//comparison operators\n",
    "\n",
    "//> //greater than\n",
    "// < //less than\n",
    "// >= //greater than or equal to\n",
    "// <= //less than or equal to\n",
    "// == //equal to\n",
    "\n",
    "//logical operators\n",
    "// && and\n",
    "// || or\n",
    "\n",
    "var username=\"tom\";\n",
    "var password=\"12345\";\n",
    "\n",
    "if (username==\"tom\" && password==\"12345\"){\n",
    "    console.log('Login successful');\n",
    "}else{\n",
    "    console.log('Login failed');\n",
    "}"
   ]
  },
  {
   "cell_type": "code",
   "execution_count": 14,
   "metadata": {},
   "outputs": [
    {
     "name": "stdout",
     "output_type": "stream",
     "text": [
      "hello\n",
      "hello\n",
      "hello\n",
      "hello\n",
      "hello\n",
      "hello\n",
      "hello\n",
      "hello\n",
      "hello\n",
      "hello\n"
     ]
    }
   ],
   "source": [
    "//loops\n",
    "\n",
    "console.log('hello');\n",
    "console.log('hello');\n",
    "console.log('hello');\n",
    "console.log('hello');\n",
    "console.log('hello');\n",
    "console.log('hello');\n",
    "console.log('hello');\n",
    "console.log('hello');\n",
    "console.log('hello');\n",
    "console.log('hello');"
   ]
  },
  {
   "cell_type": "code",
   "execution_count": null,
   "metadata": {},
   "outputs": [],
   "source": [
    "// i=i+1 is the same as i++"
   ]
  },
  {
   "cell_type": "code",
   "execution_count": 16,
   "metadata": {},
   "outputs": [
    {
     "name": "stdout",
     "output_type": "stream",
     "text": [
      "hello\n",
      "hello\n",
      "hello\n",
      "hello\n",
      "hello\n"
     ]
    }
   ],
   "source": [
    "for (var i=0; i<5; i++){\n",
    "    console.log('hello');\n",
    "}"
   ]
  },
  {
   "cell_type": "code",
   "execution_count": 17,
   "metadata": {},
   "outputs": [
    {
     "name": "stdout",
     "output_type": "stream",
     "text": [
      "hello\n",
      "hello\n",
      "hello\n",
      "hello\n",
      "hello\n"
     ]
    },
    {
     "data": {
      "text/plain": [
       "\u001b[33m4\u001b[39m"
      ]
     },
     "execution_count": 17,
     "metadata": {},
     "output_type": "execute_result"
    }
   ],
   "source": [
    "i=0;\n",
    "while (i<5){\n",
    "    console.log('hello');\n",
    "    i++;\n",
    "}"
   ]
  },
  {
   "cell_type": "code",
   "execution_count": 18,
   "metadata": {},
   "outputs": [
    {
     "name": "stdout",
     "output_type": "stream",
     "text": [
      "0\n",
      "1\n",
      "2\n",
      "3\n",
      "4\n"
     ]
    },
    {
     "data": {
      "text/plain": [
       "\u001b[33m4\u001b[39m"
      ]
     },
     "execution_count": 18,
     "metadata": {},
     "output_type": "execute_result"
    }
   ],
   "source": [
    "i=0;\n",
    "while (i<5){\n",
    "    console.log(i);\n",
    "    i++;\n",
    "}"
   ]
  },
  {
   "cell_type": "code",
   "execution_count": 19,
   "metadata": {},
   "outputs": [
    {
     "name": "stdout",
     "output_type": "stream",
     "text": [
      "0\n",
      "1\n",
      "2\n",
      "3\n",
      "4\n"
     ]
    }
   ],
   "source": [
    "for (var i=0; i<5; i++){\n",
    "    console.log(i);\n",
    "}"
   ]
  },
  {
   "cell_type": "code",
   "execution_count": 31,
   "metadata": {},
   "outputs": [
    {
     "name": "stdout",
     "output_type": "stream",
     "text": [
      "hello\n",
      "hello\n",
      "hello\n",
      "hello\n",
      "hello\n"
     ]
    }
   ],
   "source": [
    "//function definition\n",
    "function greeting(){\n",
    "    console.log('hello');\n",
    "}\n",
    "\n",
    "\n",
    "\n",
    "//function call\n",
    "greeting();\n",
    "greeting();\n",
    "greeting();\n",
    "greeting();\n",
    "greeting();"
   ]
  },
  {
   "cell_type": "code",
   "execution_count": 35,
   "metadata": {},
   "outputs": [
    {
     "name": "stdout",
     "output_type": "stream",
     "text": [
      "hello\n",
      "10\n",
      "Im am saying hello\n"
     ]
    }
   ],
   "source": [
    "//function definition\n",
    "function greeting(){\n",
    "    console.log('hello');\n",
    "}\n",
    "\n",
    "\n",
    "function sayHello(){\n",
    "    console.log('Im am saying hello');\n",
    "}\n",
    "\n",
    "greeting();\n",
    "var a=5;\n",
    "var b=a+5;\n",
    "console.log(b);\n",
    "sayHello();"
   ]
  },
  {
   "cell_type": "code",
   "execution_count": 39,
   "metadata": {},
   "outputs": [
    {
     "name": "stdout",
     "output_type": "stream",
     "text": [
      "[ 50, 60, 70, 80, 90 ]\n"
     ]
    }
   ],
   "source": [
    "var mark1=50;\n",
    "var mark2=60;\n",
    "var mark3=70;\n",
    "\n",
    "//advanced data structures\n",
    "let marks=[50,60,70,80,90]; //array\n",
    "\n",
    "let test=[]; //empty array\n",
    "\n",
    "console.log(marks);"
   ]
  },
  {
   "cell_type": "code",
   "execution_count": 41,
   "metadata": {},
   "outputs": [
    {
     "name": "stdout",
     "output_type": "stream",
     "text": [
      "[ \"Paul\", \"John\", \"Peter\", \"Mary\" ]\n",
      "Paul\n",
      "John\n",
      "Peter\n",
      "Mary\n"
     ]
    }
   ],
   "source": [
    "let names=['Paul','John','Peter','Mary'];\n",
    "\n",
    "console.log(names);\n",
    "\n",
    "console.log(names[0]);\n",
    "console.log(names[1]);\n",
    "console.log(names[2]);\n",
    "console.log(names[3]);"
   ]
  },
  {
   "cell_type": "code",
   "execution_count": 1,
   "metadata": {},
   "outputs": [
    {
     "name": "stdout",
     "output_type": "stream",
     "text": [
      "{ name: \"Paul\", age: 30, married: true }\n",
      "Paul\n",
      "Paul\n",
      "true\n"
     ]
    }
   ],
   "source": [
    "let person={\n",
    "    name:'Paul',\n",
    "    age:30,\n",
    "    married:true\n",
    "}\n",
    "\n",
    "console.log(person);\n",
    "\n",
    "console.log(person.name);\n",
    "console.log(person['name']);\n",
    "\n",
    "console.log(person['married']);"
   ]
  },
  {
   "cell_type": "code",
   "execution_count": 2,
   "metadata": {},
   "outputs": [
    {
     "name": "stdout",
     "output_type": "stream",
     "text": [
      "eric\n"
     ]
    }
   ],
   "source": [
    "person['name']=\"eric\";\n",
    "console.log(person['name']);"
   ]
  },
  {
   "cell_type": "code",
   "execution_count": 48,
   "metadata": {},
   "outputs": [
    {
     "name": "stdout",
     "output_type": "stream",
     "text": [
      "Paul Smith\n"
     ]
    }
   ],
   "source": [
    "var first_name='Paul';\n",
    "var last_name='Smith';\n",
    "\n",
    "var full_name=first_name + ' ' + last_name;\n",
    "console.log(full_name);"
   ]
  },
  {
   "cell_type": "code",
   "execution_count": 53,
   "metadata": {},
   "outputs": [
    {
     "name": "stdout",
     "output_type": "stream",
     "text": [
      "string\n",
      "number\n"
     ]
    }
   ],
   "source": [
    "//casting\n",
    "var x=\"12\";\n",
    "console.log(typeof(x));\n",
    "\n",
    "var num=parseInt(x);\n",
    "console.log(typeof(num));"
   ]
  }
 ],
 "metadata": {
  "kernelspec": {
   "display_name": "Deno",
   "language": "typescript",
   "name": "deno"
  },
  "language_info": {
   "codemirror_mode": "typescript",
   "file_extension": ".ts",
   "mimetype": "text/x.typescript",
   "name": "typescript",
   "nbconvert_exporter": "script",
   "pygments_lexer": "typescript",
   "version": "5.5.2"
  }
 },
 "nbformat": 4,
 "nbformat_minor": 2
}
